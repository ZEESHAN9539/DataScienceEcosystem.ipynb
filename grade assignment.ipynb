{
 "cells": [
  {
   "cell_type": "markdown",
   "id": "ce4df37f-dde0-49cd-b7ec-0c206458821a",
   "metadata": {},
   "source": [
    "<h1>Data Science Tools and Ecosystem<h1>"
   ]
  },
  {
   "cell_type": "markdown",
   "id": "84cabbce-8bf5-45a8-8fc6-c8d165783a75",
   "metadata": {},
   "source": [
    "In this notebook, Data Science Tools and Ecosystem are summarized."
   ]
  },
  {
   "cell_type": "markdown",
   "id": "25f34b8e-79e1-4a10-be45-6fc36eacaaf7",
   "metadata": {},
   "source": [
    "Some of the popular languages that Data Scientists use are:\n",
    "1. Python: Widely regarded as the primary language for data science due to its versatility, ease of learning, and extensive libraries such as NumPy, Pandas, and Scikit-learn.\n",
    "2. R: Particularly favored for its robust statistical analysis capabilities and rich ecosystem of packages tailored for data manipulation, visualization, and modeling.\n",
    "3. SQL: Essential for managing and querying relational databases, crucial for accessing and transforming data stored in databases, which is a common task in data science workflows.\n"
   ]
  },
  {
   "cell_type": "markdown",
   "id": "b59debd7-dfa2-4f3c-bc45-7a450a628f50",
   "metadata": {},
   "source": [
    "\r\n",
    "Some of the commonly used libraries used by Data Scientists include:\r\n",
    "\r\n",
    "1. NumPy: Fundamental package for scientific computing in Python, providing support for large, multi-dimensional arrays and matrices, along with a collection of mathematical functions to operate on these arrays.\r\n",
    "2. Pandas: Powerful data manipulation and analysis library built on top of NumPy, offering data structures like DataFrame for efficient data wrangling and manipulation.\r\n",
    "3. Matplotlib: Widely-used plotting library in Python for creating static, interactive, and publication-quality visualizations, essential for data exploration and presentat.\r\n",
    "```"
   ]
  },
  {
   "cell_type": "markdown",
   "id": "a781cc03-7607-407e-819e-ffd89eb4c2b3",
   "metadata": {},
   "source": [
    "| Data Science Tools |\r\n",
    "|--------------------|\r\n",
    "| Jupyter Notebook   |\r\n",
    "| RStudio            |\r\n",
    "| Spyder             |\r\n"
   ]
  },
  {
   "cell_type": "markdown",
   "id": "046a25c5-938c-49ad-b411-17fc7534c148",
   "metadata": {},
   "source": [
    "### Examples of Evaluating Arithmetic Expressions in Python\n"
   ]
  },
  {
   "cell_type": "code",
   "execution_count": 12,
   "id": "16fa9663-0d48-4fa7-a920-8639cb488461",
   "metadata": {},
   "outputs": [
    {
     "data": {
      "text/plain": [
       "17"
      ]
     },
     "execution_count": 12,
     "metadata": {},
     "output_type": "execute_result"
    }
   ],
   "source": [
    "\n",
    "# This is a simple arithmetic expression to multiply 3 by 4 and then add 5.\n",
    "result = (3 * 4) + 5\n",
    "result\n"
   ]
  },
  {
   "cell_type": "code",
   "execution_count": 13,
   "id": "c471f069-58d2-489b-ab48-c2498f1c731d",
   "metadata": {},
   "outputs": [
    {
     "data": {
      "text/plain": [
       "3.3333333333333335"
      ]
     },
     "execution_count": 13,
     "metadata": {},
     "output_type": "execute_result"
    }
   ],
   "source": [
    "\n",
    "# This will convert 200 minutes to hours by dividing by 60.\n",
    "hours = 200 / 60\n",
    "hours\n"
   ]
  },
  {
   "cell_type": "markdown",
   "id": "a3a4d582-8baf-4997-9d56-c0ea5b89ebb4",
   "metadata": {},
   "source": [
    "\n",
    "**Objectives:**\n",
    "\n",
    "- List popular languages for Data Science.\n",
    "- Introduce commonly used libraries in Data Science.\n",
    "- Demonstrate evaluation of arithmetic expressions in Python.\n",
    "- Convert units of time using arithmetic operations in Python.\n"
   ]
  },
  {
   "cell_type": "markdown",
   "id": "c2c02ffa-453c-41cf-9a86-1a4049e0ca99",
   "metadata": {},
   "source": [
    "## Author\n",
    "Your Name : ZEESHAN AKHTAR"
   ]
  },
  {
   "cell_type": "code",
   "execution_count": null,
   "id": "beebf8cf-fdd0-40c6-8fbc-66a2db56af8a",
   "metadata": {},
   "outputs": [],
   "source": []
  }
 ],
 "metadata": {
  "kernelspec": {
   "display_name": "Python 3 (ipykernel)",
   "language": "python",
   "name": "python3"
  },
  "language_info": {
   "codemirror_mode": {
    "name": "ipython",
    "version": 3
   },
   "file_extension": ".py",
   "mimetype": "text/x-python",
   "name": "python",
   "nbconvert_exporter": "python",
   "pygments_lexer": "ipython3",
   "version": "3.11.7"
  }
 },
 "nbformat": 4,
 "nbformat_minor": 5
}
